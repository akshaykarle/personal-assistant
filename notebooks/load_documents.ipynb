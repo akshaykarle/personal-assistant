{
 "cells": [
  {
   "cell_type": "code",
   "execution_count": 1,
   "id": "6a5353c5-04b3-46c8-9e99-d931e7c87dff",
   "metadata": {},
   "outputs": [],
   "source": [
    "import os\n",
    "from langchain.document_loaders import CSVLoader, DirectoryLoader, JSONLoader\n",
    "from langchain.docstore.document import Document\n",
    "from langchain.text_splitter import RecursiveCharacterTextSplitter, MarkdownHeaderTextSplitter\n",
    "\n",
    "\n",
    "os.environ[\"TOKENIZERS_PARALLELISM\"] = \"false\""
   ]
  },
  {
   "cell_type": "code",
   "execution_count": 3,
   "id": "0c62fc07-2414-4a39-989c-de6af46e8e6f",
   "metadata": {},
   "outputs": [
    {
     "name": "stdout",
     "output_type": "stream",
     "text": [
      "Loading json documents...\n"
     ]
    },
    {
     "name": "stderr",
     "output_type": "stream",
     "text": [
      "0it [00:00, ?it/s]\n"
     ]
    },
    {
     "name": "stdout",
     "output_type": "stream",
     "text": [
      "Loading csv documents...\n"
     ]
    },
    {
     "name": "stderr",
     "output_type": "stream",
     "text": [
      "0it [00:00, ?it/s]\n"
     ]
    },
    {
     "name": "stdout",
     "output_type": "stream",
     "text": [
      "Loading md documents...\n"
     ]
    },
    {
     "name": "stderr",
     "output_type": "stream",
     "text": [
      "0it [00:00, ?it/s]\n"
     ]
    },
    {
     "name": "stdout",
     "output_type": "stream",
     "text": [
      "Loading all remaining non-json/csv/md documents...\n"
     ]
    },
    {
     "name": "stderr",
     "output_type": "stream",
     "text": [
      "  0%|                                                                                                                                                                                                                                                  | 0/14 [00:00<?, ?it/s]Error loading file ../data/google_drive_sahaj/All/Projects/ClearChannel/Programmatic Vision Jan 2023/CCI_AlignmentWorkshop_Programmatic_15Feb23.pptx: unstructured package not found, please install it with `pip install unstructured`\n",
      "Error loading file ../data/google_drive_sahaj/All/Projects/ClearChannel/Discovery July 2022/CCI LAUNCHPAD Discovery Outcomes.docx: unstructured package not found, please install it with `pip install unstructured`\n",
      "Error loading file ../data/google_drive_sahaj/All/Projects/ClearChannel/Discovery July 2022/CCI LAUNCHPAD Discovery Outcomes.pptx: unstructured package not found, please install it with `pip install unstructured`\n",
      "Error loading file ../data/google_drive_sahaj/All/Projects/ClearChannel/Discovery July 2022/Useful Links.docx: unstructured package not found, please install it with `pip install unstructured`\n",
      "Error loading file ../data/google_drive_sahaj/All/Projects/ClearChannel/Discovery July 2022/CCI LAUNCHPAD Discovery Outcomes.pdf: unstructured package not found, please install it with `pip install unstructured`\n",
      "Error loading file ../data/google_drive_sahaj/All/Projects/ClearChannel/Discovery July 2022/Resources/220725 LaunchPAD Priorities (1).pptx: unstructured package not found, please install it with `pip install unstructured`\n",
      "Error loading file ../data/google_drive_sahaj/All/Projects/ClearChannel/Discovery July 2022/Resources/Clear Channel H1 Tech Review (1).pdf: unstructured package not found, please install it with `pip install unstructured`\n",
      "Error loading file ../data/google_drive_sahaj/All/Projects/ClearChannel/Discovery July 2022/Resources/220720 LaunchPAD HL Direction.pptx: unstructured package not found, please install it with `pip install unstructured`\n",
      "Error loading file ../data/google_drive_sahaj/All/Projects/ClearChannel/Creative Management/CreativeContact_Upload.pptx: unstructured package not found, please install it with `pip install unstructured`\n",
      "Error loading file ../data/google_drive_sahaj/All/Projects/ClearChannel/Case Study - 2023/One Pager Summary - Programmatic.docx: unstructured package not found, please install it with `pip install unstructured`\n",
      " 71%|█████████████████████████████████████████████████████████████████████████████████████████████████████████████████████████████████████████████████████████████████████▋                                                                  | 10/14 [00:00<00:00, 661.47it/s]\n"
     ]
    }
   ],
   "source": [
    "directory = \"../data/google_drive_sahaj/All/Projects/ClearChannel\"\n",
    "docs = []\n",
    "print(\"Loading json documents...\")\n",
    "docs = DirectoryLoader(path=directory, glob=\"**/*.json\", recursive=True, show_progress=True, silent_errors=True, loader_cls=JSONLoader, loader_kwargs={\"jq_schema\": \".\", \"text_content\": False}).load()\n",
    "print(\"Loading csv documents...\")\n",
    "docs += DirectoryLoader(path=directory, glob=\"**/*.csv\", recursive=True, show_progress=True, silent_errors=True, loader_cls=CSVLoader, loader_kwargs={\"csv_args\":{\"delimiter\": \"\\n\"}}).load()\n",
    "print(\"Loading md documents...\")\n",
    "docs += DirectoryLoader(path=directory, glob=\"**/*.md\", recursive=True, show_progress=True, silent_errors=True, loader_kwargs={\"autodetect_encoding\": True, \"mode\": \"elements\"}).load()\n",
    "print(\"Loading all remaining non-json/csv/md documents...\")\n",
    "# load all non-json/csv/md files as text\n",
    "docs += DirectoryLoader(path=directory, glob=\"**/*[!(.json|.csv|.md)]\", recursive=True, show_progress=True, silent_errors=True, loader_kwargs={\"autodetect_encoding\": True, \"mode\": \"elements\"}).load()\n"
   ]
  }
 ],
 "metadata": {
  "kernelspec": {
   "display_name": "Python 3 (ipykernel)",
   "language": "python",
   "name": "python3"
  },
  "language_info": {
   "codemirror_mode": {
    "name": "ipython",
    "version": 3
   },
   "file_extension": ".py",
   "mimetype": "text/x-python",
   "name": "python",
   "nbconvert_exporter": "python",
   "pygments_lexer": "ipython3",
   "version": "3.10.13"
  }
 },
 "nbformat": 4,
 "nbformat_minor": 5
}
